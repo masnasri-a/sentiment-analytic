{
 "cells": [
  {
   "cell_type": "code",
   "execution_count": 3,
   "id": "8cb8eaf8",
   "metadata": {},
   "outputs": [],
   "source": [
    "example = \"Keren Om Ded 👏 Semoga suatu hari ada bintang tamu yang ga di dibikin uncomfortable with your questions ya.\""
   ]
  },
  {
   "cell_type": "code",
   "execution_count": 4,
   "id": "bd16ca4a",
   "metadata": {},
   "outputs": [
    {
     "name": "stdout",
     "output_type": "stream",
     "text": [
      "Keren Om Ded 👏 Semoga suatu hari ada bintang tamu yang ga di dibikin uncomfortable with your questions ya.\n"
     ]
    }
   ],
   "source": [
    "print(example)"
   ]
  },
  {
   "cell_type": "code",
   "execution_count": 5,
   "id": "37921b36",
   "metadata": {},
   "outputs": [],
   "source": [
    "def cleaning(text:str):\n",
    "    lower_text = text.lower()\n",
    "    print(text)"
   ]
  },
  {
   "cell_type": "code",
   "execution_count": 6,
   "id": "80d54a4f",
   "metadata": {},
   "outputs": [
    {
     "name": "stdout",
     "output_type": "stream",
     "text": [
      "Keren Om Ded 👏 Semoga suatu hari ada bintang tamu yang ga di dibikin uncomfortable with your questions ya.\n"
     ]
    }
   ],
   "source": [
    "cleaning(example)"
   ]
  }
 ],
 "metadata": {
  "kernelspec": {
   "display_name": "Python 3 (ipykernel)",
   "language": "python",
   "name": "python3"
  },
  "language_info": {
   "codemirror_mode": {
    "name": "ipython",
    "version": 3
   },
   "file_extension": ".py",
   "mimetype": "text/x-python",
   "name": "python",
   "nbconvert_exporter": "python",
   "pygments_lexer": "ipython3",
   "version": "3.10.8"
  }
 },
 "nbformat": 4,
 "nbformat_minor": 5
}
